{
  "nbformat": 4,
  "nbformat_minor": 0,
  "metadata": {
    "colab": {
      "provenance": []
    },
    "kernelspec": {
      "name": "python3",
      "display_name": "Python 3"
    },
    "language_info": {
      "name": "python"
    },
    "accelerator": "GPU",
    "widgets": {
      "application/vnd.jupyter.widget-state+json": {
        "5f6549b1cace491689a3b0804e2e4435": {
          "model_module": "@jupyter-widgets/controls",
          "model_name": "HBoxModel",
          "model_module_version": "1.5.0",
          "state": {
            "_dom_classes": [],
            "_model_module": "@jupyter-widgets/controls",
            "_model_module_version": "1.5.0",
            "_model_name": "HBoxModel",
            "_view_count": null,
            "_view_module": "@jupyter-widgets/controls",
            "_view_module_version": "1.5.0",
            "_view_name": "HBoxView",
            "box_style": "",
            "children": [
              "IPY_MODEL_3ba11ca135e346c18ed9997286d5b4ad",
              "IPY_MODEL_a55b0df1231a4300a088e4806d2f0435",
              "IPY_MODEL_4239d5fca148444c9fde804f1a45e7f2"
            ],
            "layout": "IPY_MODEL_e3f594178944410fbab2ffefdd0f0f1f"
          }
        },
        "3ba11ca135e346c18ed9997286d5b4ad": {
          "model_module": "@jupyter-widgets/controls",
          "model_name": "HTMLModel",
          "model_module_version": "1.5.0",
          "state": {
            "_dom_classes": [],
            "_model_module": "@jupyter-widgets/controls",
            "_model_module_version": "1.5.0",
            "_model_name": "HTMLModel",
            "_view_count": null,
            "_view_module": "@jupyter-widgets/controls",
            "_view_module_version": "1.5.0",
            "_view_name": "HTMLView",
            "description": "",
            "description_tooltip": null,
            "layout": "IPY_MODEL_bf0f9d33f9e34c048bb4e18e38a15719",
            "placeholder": "​",
            "style": "IPY_MODEL_196fd246ee214f6aa1d8903d60b67be2",
            "value": "100%"
          }
        },
        "a55b0df1231a4300a088e4806d2f0435": {
          "model_module": "@jupyter-widgets/controls",
          "model_name": "FloatProgressModel",
          "model_module_version": "1.5.0",
          "state": {
            "_dom_classes": [],
            "_model_module": "@jupyter-widgets/controls",
            "_model_module_version": "1.5.0",
            "_model_name": "FloatProgressModel",
            "_view_count": null,
            "_view_module": "@jupyter-widgets/controls",
            "_view_module_version": "1.5.0",
            "_view_name": "ProgressView",
            "bar_style": "success",
            "description": "",
            "description_tooltip": null,
            "layout": "IPY_MODEL_0910bf34fd1f429193411e028c7a53ee",
            "max": 46830571,
            "min": 0,
            "orientation": "horizontal",
            "style": "IPY_MODEL_30303382a4194e0aa6a90875688bd9a2",
            "value": 46830571
          }
        },
        "4239d5fca148444c9fde804f1a45e7f2": {
          "model_module": "@jupyter-widgets/controls",
          "model_name": "HTMLModel",
          "model_module_version": "1.5.0",
          "state": {
            "_dom_classes": [],
            "_model_module": "@jupyter-widgets/controls",
            "_model_module_version": "1.5.0",
            "_model_name": "HTMLModel",
            "_view_count": null,
            "_view_module": "@jupyter-widgets/controls",
            "_view_module_version": "1.5.0",
            "_view_name": "HTMLView",
            "description": "",
            "description_tooltip": null,
            "layout": "IPY_MODEL_92be7fb9b2a74593aa7b15a0f250050f",
            "placeholder": "​",
            "style": "IPY_MODEL_608fd07bd2674c2cbc255249b3f6a927",
            "value": " 44.7M/44.7M [00:00&lt;00:00, 113MB/s]"
          }
        },
        "e3f594178944410fbab2ffefdd0f0f1f": {
          "model_module": "@jupyter-widgets/base",
          "model_name": "LayoutModel",
          "model_module_version": "1.2.0",
          "state": {
            "_model_module": "@jupyter-widgets/base",
            "_model_module_version": "1.2.0",
            "_model_name": "LayoutModel",
            "_view_count": null,
            "_view_module": "@jupyter-widgets/base",
            "_view_module_version": "1.2.0",
            "_view_name": "LayoutView",
            "align_content": null,
            "align_items": null,
            "align_self": null,
            "border": null,
            "bottom": null,
            "display": null,
            "flex": null,
            "flex_flow": null,
            "grid_area": null,
            "grid_auto_columns": null,
            "grid_auto_flow": null,
            "grid_auto_rows": null,
            "grid_column": null,
            "grid_gap": null,
            "grid_row": null,
            "grid_template_areas": null,
            "grid_template_columns": null,
            "grid_template_rows": null,
            "height": null,
            "justify_content": null,
            "justify_items": null,
            "left": null,
            "margin": null,
            "max_height": null,
            "max_width": null,
            "min_height": null,
            "min_width": null,
            "object_fit": null,
            "object_position": null,
            "order": null,
            "overflow": null,
            "overflow_x": null,
            "overflow_y": null,
            "padding": null,
            "right": null,
            "top": null,
            "visibility": null,
            "width": null
          }
        },
        "bf0f9d33f9e34c048bb4e18e38a15719": {
          "model_module": "@jupyter-widgets/base",
          "model_name": "LayoutModel",
          "model_module_version": "1.2.0",
          "state": {
            "_model_module": "@jupyter-widgets/base",
            "_model_module_version": "1.2.0",
            "_model_name": "LayoutModel",
            "_view_count": null,
            "_view_module": "@jupyter-widgets/base",
            "_view_module_version": "1.2.0",
            "_view_name": "LayoutView",
            "align_content": null,
            "align_items": null,
            "align_self": null,
            "border": null,
            "bottom": null,
            "display": null,
            "flex": null,
            "flex_flow": null,
            "grid_area": null,
            "grid_auto_columns": null,
            "grid_auto_flow": null,
            "grid_auto_rows": null,
            "grid_column": null,
            "grid_gap": null,
            "grid_row": null,
            "grid_template_areas": null,
            "grid_template_columns": null,
            "grid_template_rows": null,
            "height": null,
            "justify_content": null,
            "justify_items": null,
            "left": null,
            "margin": null,
            "max_height": null,
            "max_width": null,
            "min_height": null,
            "min_width": null,
            "object_fit": null,
            "object_position": null,
            "order": null,
            "overflow": null,
            "overflow_x": null,
            "overflow_y": null,
            "padding": null,
            "right": null,
            "top": null,
            "visibility": null,
            "width": null
          }
        },
        "196fd246ee214f6aa1d8903d60b67be2": {
          "model_module": "@jupyter-widgets/controls",
          "model_name": "DescriptionStyleModel",
          "model_module_version": "1.5.0",
          "state": {
            "_model_module": "@jupyter-widgets/controls",
            "_model_module_version": "1.5.0",
            "_model_name": "DescriptionStyleModel",
            "_view_count": null,
            "_view_module": "@jupyter-widgets/base",
            "_view_module_version": "1.2.0",
            "_view_name": "StyleView",
            "description_width": ""
          }
        },
        "0910bf34fd1f429193411e028c7a53ee": {
          "model_module": "@jupyter-widgets/base",
          "model_name": "LayoutModel",
          "model_module_version": "1.2.0",
          "state": {
            "_model_module": "@jupyter-widgets/base",
            "_model_module_version": "1.2.0",
            "_model_name": "LayoutModel",
            "_view_count": null,
            "_view_module": "@jupyter-widgets/base",
            "_view_module_version": "1.2.0",
            "_view_name": "LayoutView",
            "align_content": null,
            "align_items": null,
            "align_self": null,
            "border": null,
            "bottom": null,
            "display": null,
            "flex": null,
            "flex_flow": null,
            "grid_area": null,
            "grid_auto_columns": null,
            "grid_auto_flow": null,
            "grid_auto_rows": null,
            "grid_column": null,
            "grid_gap": null,
            "grid_row": null,
            "grid_template_areas": null,
            "grid_template_columns": null,
            "grid_template_rows": null,
            "height": null,
            "justify_content": null,
            "justify_items": null,
            "left": null,
            "margin": null,
            "max_height": null,
            "max_width": null,
            "min_height": null,
            "min_width": null,
            "object_fit": null,
            "object_position": null,
            "order": null,
            "overflow": null,
            "overflow_x": null,
            "overflow_y": null,
            "padding": null,
            "right": null,
            "top": null,
            "visibility": null,
            "width": null
          }
        },
        "30303382a4194e0aa6a90875688bd9a2": {
          "model_module": "@jupyter-widgets/controls",
          "model_name": "ProgressStyleModel",
          "model_module_version": "1.5.0",
          "state": {
            "_model_module": "@jupyter-widgets/controls",
            "_model_module_version": "1.5.0",
            "_model_name": "ProgressStyleModel",
            "_view_count": null,
            "_view_module": "@jupyter-widgets/base",
            "_view_module_version": "1.2.0",
            "_view_name": "StyleView",
            "bar_color": null,
            "description_width": ""
          }
        },
        "92be7fb9b2a74593aa7b15a0f250050f": {
          "model_module": "@jupyter-widgets/base",
          "model_name": "LayoutModel",
          "model_module_version": "1.2.0",
          "state": {
            "_model_module": "@jupyter-widgets/base",
            "_model_module_version": "1.2.0",
            "_model_name": "LayoutModel",
            "_view_count": null,
            "_view_module": "@jupyter-widgets/base",
            "_view_module_version": "1.2.0",
            "_view_name": "LayoutView",
            "align_content": null,
            "align_items": null,
            "align_self": null,
            "border": null,
            "bottom": null,
            "display": null,
            "flex": null,
            "flex_flow": null,
            "grid_area": null,
            "grid_auto_columns": null,
            "grid_auto_flow": null,
            "grid_auto_rows": null,
            "grid_column": null,
            "grid_gap": null,
            "grid_row": null,
            "grid_template_areas": null,
            "grid_template_columns": null,
            "grid_template_rows": null,
            "height": null,
            "justify_content": null,
            "justify_items": null,
            "left": null,
            "margin": null,
            "max_height": null,
            "max_width": null,
            "min_height": null,
            "min_width": null,
            "object_fit": null,
            "object_position": null,
            "order": null,
            "overflow": null,
            "overflow_x": null,
            "overflow_y": null,
            "padding": null,
            "right": null,
            "top": null,
            "visibility": null,
            "width": null
          }
        },
        "608fd07bd2674c2cbc255249b3f6a927": {
          "model_module": "@jupyter-widgets/controls",
          "model_name": "DescriptionStyleModel",
          "model_module_version": "1.5.0",
          "state": {
            "_model_module": "@jupyter-widgets/controls",
            "_model_module_version": "1.5.0",
            "_model_name": "DescriptionStyleModel",
            "_view_count": null,
            "_view_module": "@jupyter-widgets/base",
            "_view_module_version": "1.2.0",
            "_view_name": "StyleView",
            "description_width": ""
          }
        },
        "8f51ed6e0abd4ad9a6ec8fb4bf7bf5d3": {
          "model_module": "@jupyter-widgets/controls",
          "model_name": "HBoxModel",
          "model_module_version": "1.5.0",
          "state": {
            "_dom_classes": [],
            "_model_module": "@jupyter-widgets/controls",
            "_model_module_version": "1.5.0",
            "_model_name": "HBoxModel",
            "_view_count": null,
            "_view_module": "@jupyter-widgets/controls",
            "_view_module_version": "1.5.0",
            "_view_name": "HBoxView",
            "box_style": "",
            "children": [
              "IPY_MODEL_89485cdcc9114801aba1133c55e6529c",
              "IPY_MODEL_7f7e02d1b0014d0290a55fa00f7b1eab",
              "IPY_MODEL_0e300651a8fd4199a7afc7de81359210"
            ],
            "layout": "IPY_MODEL_9c26fc9ecf8e454baa948e4dc969695f"
          }
        },
        "89485cdcc9114801aba1133c55e6529c": {
          "model_module": "@jupyter-widgets/controls",
          "model_name": "HTMLModel",
          "model_module_version": "1.5.0",
          "state": {
            "_dom_classes": [],
            "_model_module": "@jupyter-widgets/controls",
            "_model_module_version": "1.5.0",
            "_model_name": "HTMLModel",
            "_view_count": null,
            "_view_module": "@jupyter-widgets/controls",
            "_view_module_version": "1.5.0",
            "_view_name": "HTMLView",
            "description": "",
            "description_tooltip": null,
            "layout": "IPY_MODEL_c604a6567add484484b56065eff22c6b",
            "placeholder": "​",
            "style": "IPY_MODEL_5dd978486e37464e85b52491cff54bb5",
            "value": "100%"
          }
        },
        "7f7e02d1b0014d0290a55fa00f7b1eab": {
          "model_module": "@jupyter-widgets/controls",
          "model_name": "FloatProgressModel",
          "model_module_version": "1.5.0",
          "state": {
            "_dom_classes": [],
            "_model_module": "@jupyter-widgets/controls",
            "_model_module_version": "1.5.0",
            "_model_name": "FloatProgressModel",
            "_view_count": null,
            "_view_module": "@jupyter-widgets/controls",
            "_view_module_version": "1.5.0",
            "_view_name": "ProgressView",
            "bar_style": "success",
            "description": "",
            "description_tooltip": null,
            "layout": "IPY_MODEL_400819eb78ba4172bff2ee0ab4653ad2",
            "max": 46830571,
            "min": 0,
            "orientation": "horizontal",
            "style": "IPY_MODEL_10dd53fd978d4ce9a082899b297f5a0c",
            "value": 46830571
          }
        },
        "0e300651a8fd4199a7afc7de81359210": {
          "model_module": "@jupyter-widgets/controls",
          "model_name": "HTMLModel",
          "model_module_version": "1.5.0",
          "state": {
            "_dom_classes": [],
            "_model_module": "@jupyter-widgets/controls",
            "_model_module_version": "1.5.0",
            "_model_name": "HTMLModel",
            "_view_count": null,
            "_view_module": "@jupyter-widgets/controls",
            "_view_module_version": "1.5.0",
            "_view_name": "HTMLView",
            "description": "",
            "description_tooltip": null,
            "layout": "IPY_MODEL_a843b55283254e539844168500e1dac4",
            "placeholder": "​",
            "style": "IPY_MODEL_7f6d9d2977324bb898937e149ce7f974",
            "value": " 44.7M/44.7M [00:00&lt;00:00, 114MB/s]"
          }
        },
        "9c26fc9ecf8e454baa948e4dc969695f": {
          "model_module": "@jupyter-widgets/base",
          "model_name": "LayoutModel",
          "model_module_version": "1.2.0",
          "state": {
            "_model_module": "@jupyter-widgets/base",
            "_model_module_version": "1.2.0",
            "_model_name": "LayoutModel",
            "_view_count": null,
            "_view_module": "@jupyter-widgets/base",
            "_view_module_version": "1.2.0",
            "_view_name": "LayoutView",
            "align_content": null,
            "align_items": null,
            "align_self": null,
            "border": null,
            "bottom": null,
            "display": null,
            "flex": null,
            "flex_flow": null,
            "grid_area": null,
            "grid_auto_columns": null,
            "grid_auto_flow": null,
            "grid_auto_rows": null,
            "grid_column": null,
            "grid_gap": null,
            "grid_row": null,
            "grid_template_areas": null,
            "grid_template_columns": null,
            "grid_template_rows": null,
            "height": null,
            "justify_content": null,
            "justify_items": null,
            "left": null,
            "margin": null,
            "max_height": null,
            "max_width": null,
            "min_height": null,
            "min_width": null,
            "object_fit": null,
            "object_position": null,
            "order": null,
            "overflow": null,
            "overflow_x": null,
            "overflow_y": null,
            "padding": null,
            "right": null,
            "top": null,
            "visibility": null,
            "width": null
          }
        },
        "c604a6567add484484b56065eff22c6b": {
          "model_module": "@jupyter-widgets/base",
          "model_name": "LayoutModel",
          "model_module_version": "1.2.0",
          "state": {
            "_model_module": "@jupyter-widgets/base",
            "_model_module_version": "1.2.0",
            "_model_name": "LayoutModel",
            "_view_count": null,
            "_view_module": "@jupyter-widgets/base",
            "_view_module_version": "1.2.0",
            "_view_name": "LayoutView",
            "align_content": null,
            "align_items": null,
            "align_self": null,
            "border": null,
            "bottom": null,
            "display": null,
            "flex": null,
            "flex_flow": null,
            "grid_area": null,
            "grid_auto_columns": null,
            "grid_auto_flow": null,
            "grid_auto_rows": null,
            "grid_column": null,
            "grid_gap": null,
            "grid_row": null,
            "grid_template_areas": null,
            "grid_template_columns": null,
            "grid_template_rows": null,
            "height": null,
            "justify_content": null,
            "justify_items": null,
            "left": null,
            "margin": null,
            "max_height": null,
            "max_width": null,
            "min_height": null,
            "min_width": null,
            "object_fit": null,
            "object_position": null,
            "order": null,
            "overflow": null,
            "overflow_x": null,
            "overflow_y": null,
            "padding": null,
            "right": null,
            "top": null,
            "visibility": null,
            "width": null
          }
        },
        "5dd978486e37464e85b52491cff54bb5": {
          "model_module": "@jupyter-widgets/controls",
          "model_name": "DescriptionStyleModel",
          "model_module_version": "1.5.0",
          "state": {
            "_model_module": "@jupyter-widgets/controls",
            "_model_module_version": "1.5.0",
            "_model_name": "DescriptionStyleModel",
            "_view_count": null,
            "_view_module": "@jupyter-widgets/base",
            "_view_module_version": "1.2.0",
            "_view_name": "StyleView",
            "description_width": ""
          }
        },
        "400819eb78ba4172bff2ee0ab4653ad2": {
          "model_module": "@jupyter-widgets/base",
          "model_name": "LayoutModel",
          "model_module_version": "1.2.0",
          "state": {
            "_model_module": "@jupyter-widgets/base",
            "_model_module_version": "1.2.0",
            "_model_name": "LayoutModel",
            "_view_count": null,
            "_view_module": "@jupyter-widgets/base",
            "_view_module_version": "1.2.0",
            "_view_name": "LayoutView",
            "align_content": null,
            "align_items": null,
            "align_self": null,
            "border": null,
            "bottom": null,
            "display": null,
            "flex": null,
            "flex_flow": null,
            "grid_area": null,
            "grid_auto_columns": null,
            "grid_auto_flow": null,
            "grid_auto_rows": null,
            "grid_column": null,
            "grid_gap": null,
            "grid_row": null,
            "grid_template_areas": null,
            "grid_template_columns": null,
            "grid_template_rows": null,
            "height": null,
            "justify_content": null,
            "justify_items": null,
            "left": null,
            "margin": null,
            "max_height": null,
            "max_width": null,
            "min_height": null,
            "min_width": null,
            "object_fit": null,
            "object_position": null,
            "order": null,
            "overflow": null,
            "overflow_x": null,
            "overflow_y": null,
            "padding": null,
            "right": null,
            "top": null,
            "visibility": null,
            "width": null
          }
        },
        "10dd53fd978d4ce9a082899b297f5a0c": {
          "model_module": "@jupyter-widgets/controls",
          "model_name": "ProgressStyleModel",
          "model_module_version": "1.5.0",
          "state": {
            "_model_module": "@jupyter-widgets/controls",
            "_model_module_version": "1.5.0",
            "_model_name": "ProgressStyleModel",
            "_view_count": null,
            "_view_module": "@jupyter-widgets/base",
            "_view_module_version": "1.2.0",
            "_view_name": "StyleView",
            "bar_color": null,
            "description_width": ""
          }
        },
        "a843b55283254e539844168500e1dac4": {
          "model_module": "@jupyter-widgets/base",
          "model_name": "LayoutModel",
          "model_module_version": "1.2.0",
          "state": {
            "_model_module": "@jupyter-widgets/base",
            "_model_module_version": "1.2.0",
            "_model_name": "LayoutModel",
            "_view_count": null,
            "_view_module": "@jupyter-widgets/base",
            "_view_module_version": "1.2.0",
            "_view_name": "LayoutView",
            "align_content": null,
            "align_items": null,
            "align_self": null,
            "border": null,
            "bottom": null,
            "display": null,
            "flex": null,
            "flex_flow": null,
            "grid_area": null,
            "grid_auto_columns": null,
            "grid_auto_flow": null,
            "grid_auto_rows": null,
            "grid_column": null,
            "grid_gap": null,
            "grid_row": null,
            "grid_template_areas": null,
            "grid_template_columns": null,
            "grid_template_rows": null,
            "height": null,
            "justify_content": null,
            "justify_items": null,
            "left": null,
            "margin": null,
            "max_height": null,
            "max_width": null,
            "min_height": null,
            "min_width": null,
            "object_fit": null,
            "object_position": null,
            "order": null,
            "overflow": null,
            "overflow_x": null,
            "overflow_y": null,
            "padding": null,
            "right": null,
            "top": null,
            "visibility": null,
            "width": null
          }
        },
        "7f6d9d2977324bb898937e149ce7f974": {
          "model_module": "@jupyter-widgets/controls",
          "model_name": "DescriptionStyleModel",
          "model_module_version": "1.5.0",
          "state": {
            "_model_module": "@jupyter-widgets/controls",
            "_model_module_version": "1.5.0",
            "_model_name": "DescriptionStyleModel",
            "_view_count": null,
            "_view_module": "@jupyter-widgets/base",
            "_view_module_version": "1.2.0",
            "_view_name": "StyleView",
            "description_width": ""
          }
        }
      }
    }
  },
  "cells": [
    {
      "cell_type": "code",
      "execution_count": null,
      "metadata": {
        "id": "e1rKA07TXQ1r"
      },
      "outputs": [],
      "source": [
        "import torch\n",
        "import torch.nn as nn\n",
        "import torch.optim as optim\n",
        "from torch.optim import lr_scheduler\n",
        "import torch.backends.cudnn as cudnn\n",
        "import numpy as np\n",
        "import torchvision\n",
        "from torchvision import datasets, models, transforms\n",
        "import matplotlib.pyplot as plt\n",
        "import time\n",
        "import os\n",
        "import copy"
      ]
    },
    {
      "cell_type": "code",
      "source": [
        "from google.colab import drive\n",
        "drive.mount('/content/gdrive')"
      ],
      "metadata": {
        "colab": {
          "base_uri": "https://localhost:8080/"
        },
        "id": "FfIf7SNpkD-Q",
        "outputId": "f9598826-3913-46bd-8350-dc505aa16454"
      },
      "execution_count": null,
      "outputs": [
        {
          "output_type": "stream",
          "name": "stdout",
          "text": [
            "Mounted at /content/gdrive\n"
          ]
        }
      ]
    },
    {
      "cell_type": "code",
      "source": [
        "#!unzip gdrive/MyDrive/dataset.zip"
      ],
      "metadata": {
        "id": "Ja-DXREikumc"
      },
      "execution_count": null,
      "outputs": []
    },
    {
      "cell_type": "code",
      "source": [
        "data_transforms = {\n",
        "    'train': transforms.Compose([\n",
        "        transforms.RandomResizedCrop(224),\n",
        "        transforms.RandomHorizontalFlip(),\n",
        "        transforms.ToTensor(),\n",
        "        transforms.Normalize([0.485, 0.456, 0.406], [0.229, 0.224, 0.225])\n",
        "    ]),\n",
        "    'valid': transforms.Compose([\n",
        "        transforms.Resize(256),\n",
        "        transforms.CenterCrop(224),\n",
        "        transforms.ToTensor(),\n",
        "        transforms.Normalize([0.485, 0.456, 0.406], [0.229, 0.224, 0.225])\n",
        "    ]),\n",
        "}\n",
        "\n",
        "data_dir = 'glasses_noGlasses'\n",
        "image_datasets = {x: datasets.ImageFolder(os.path.join(data_dir, x),\n",
        "                                          data_transforms[x])\n",
        "                  for x in ['train', 'valid']}\n",
        "dataloaders = {x: torch.utils.data.DataLoader(image_datasets[x], batch_size=4,\n",
        "                                              shuffle=True, num_workers=2)\n",
        "              for x in ['train', 'valid']}\n",
        "dataset_sizes = {x: len(image_datasets[x]) for x in ['train', 'valid']}\n",
        "class_names = image_datasets['train'].classes\n",
        "\n",
        "device = torch.device(\"cuda:0\" if torch.cuda.is_available() else \"cpu\")"
      ],
      "metadata": {
        "id": "moP6XJAIgUDW"
      },
      "execution_count": null,
      "outputs": []
    },
    {
      "cell_type": "code",
      "source": [
        "def imshow(inp, title=None):\n",
        "    \"\"\"Imshow for Tensor.\"\"\"\n",
        "    inp = inp.numpy().transpose((1, 2, 0))\n",
        "    mean = np.array([0.485, 0.456, 0.406])\n",
        "    std = np.array([0.229, 0.224, 0.225])\n",
        "    inp = std * inp + mean\n",
        "    inp = np.clip(inp, 0, 1)\n",
        "    plt.imshow(inp)\n",
        "    if title is not None:\n",
        "        plt.title(title)\n",
        "    plt.pause(0.001)\n",
        "\n",
        "\n",
        "inputs, classes = next(iter(dataloaders['train']))\n",
        "\n",
        "out = torchvision.utils.make_grid(inputs)\n",
        "\n",
        "imshow(out, title=[class_names[x] for x in classes])"
      ],
      "metadata": {
        "id": "hEs8SFlfgahQ",
        "colab": {
          "base_uri": "https://localhost:8080/",
          "height": 148
        },
        "outputId": "9e66e2bf-b840-4a32-83da-4ed6dbee9654"
      },
      "execution_count": null,
      "outputs": [
        {
          "output_type": "display_data",
          "data": {
            "text/plain": [
              "<Figure size 432x288 with 1 Axes>"
            ],
            "image/png": "[encoded data removed]"
          },
          "metadata": {
            "needs_background": "light"
          }
        }
      ]
    },
    {
      "cell_type": "code",
      "source": [
        "def train_model(model, criterion, optimizer, scheduler, num_epochs=25):\n",
        "    since = time.time()\n",
        "\n",
        "    best_model_wts = copy.deepcopy(model.state_dict())\n",
        "    best_acc = 0.0\n",
        "\n",
        "    for epoch in range(num_epochs):\n",
        "        print('Epoch {}/{}'.format(epoch, num_epochs - 1))\n",
        "        print('-' * 10)\n",
        "\n",
        "        # Each epoch has a training and validation phase\n",
        "        for phase in ['train', 'valid']:\n",
        "            if phase == 'train':\n",
        "                model.train()  # Set model to training mode\n",
        "            else:\n",
        "                model.eval()   # Set model to evaluate mode\n",
        "\n",
        "            running_loss = 0.0\n",
        "            running_corrects = 0\n",
        "\n",
        "            # Iterate over data.\n",
        "            for inputs, labels in dataloaders[phase]:\n",
        "                inputs = inputs.to(device)\n",
        "                labels = labels.to(device)\n",
        "\n",
        "                # zero the parameter gradients\n",
        "                optimizer.zero_grad()\n",
        "\n",
        "                # forward\n",
        "                # track history if only in train\n",
        "                with torch.set_grad_enabled(phase == 'train'):\n",
        "                    outputs = model(inputs)\n",
        "                    _, preds = torch.max(outputs, 1)\n",
        "                    loss = criterion(outputs, labels)\n",
        "\n",
        "                    # backward + optimize only if in training phase\n",
        "                    if phase == 'train':\n",
        "                        loss.backward()\n",
        "                        optimizer.step()\n",
        "\n",
        "                # statistics\n",
        "                running_loss += loss.item() * inputs.size(0)\n",
        "                running_corrects += torch.sum(preds == labels.data)\n",
        "            if phase == 'train':\n",
        "                scheduler.step()\n",
        "\n",
        "            epoch_loss = running_loss / dataset_sizes[phase]\n",
        "            epoch_acc = running_corrects.double() / dataset_sizes[phase]\n",
        "\n",
        "            print('{} Loss: {:.4f} Acc: {:.4f}'.format(\n",
        "                phase, epoch_loss, epoch_acc))\n",
        "\n",
        "            # deep copy the model\n",
        "            if phase == 'valid' and epoch_acc > best_acc:\n",
        "                best_acc = epoch_acc\n",
        "                best_model_wts = copy.deepcopy(model.state_dict())\n",
        "\n",
        "        print()\n",
        "\n",
        "    time_elapsed = time.time() - since\n",
        "    print('Training complete in {:.0f}m {:.0f}s'.format(\n",
        "        time_elapsed // 60, time_elapsed % 60))\n",
        "    print('Best val Acc: {:4f}'.format(best_acc))\n",
        "\n",
        "    # load best model weights\n",
        "    model.load_state_dict(best_model_wts)\n",
        "    return model"
      ],
      "metadata": {
        "id": "oOYFih7EfSPw"
      },
      "execution_count": null,
      "outputs": []
    },
    {
      "cell_type": "code",
      "source": [
        "def visualize_model(model, num_images=6):\n",
        "    was_training = model.training\n",
        "    model.eval()\n",
        "    images_so_far = 0\n",
        "    fig = plt.figure()\n",
        "\n",
        "    with torch.no_grad():\n",
        "        for i, (inputs, labels) in enumerate(dataloaders['valid']):\n",
        "            inputs = inputs.to(device)\n",
        "            labels = labels.to(device)\n",
        "\n",
        "            outputs = model(inputs)\n",
        "            _, preds = torch.max(outputs, 1)\n",
        "\n",
        "            for j in range(inputs.size()[0]):\n",
        "                images_so_far += 1\n",
        "                ax = plt.subplot(num_images//2, 2, images_so_far)\n",
        "                ax.axis('off')\n",
        "                ax.set_title('predicted: {}'.format(class_names[preds[j]]))\n",
        "                imshow(inputs.cpu().data[j])\n",
        "\n",
        "                if images_so_far == num_images:\n",
        "                    model.train(mode=was_training)\n",
        "                    return\n",
        "        model.train(mode=was_training)"
      ],
      "metadata": {
        "id": "SmpXzgW5fW0l"
      },
      "execution_count": null,
      "outputs": []
    },
    {
      "cell_type": "code",
      "source": [
        "def get_trained_model(model_conv):\n",
        "  for param in model_conv.parameters():\n",
        "      param.requires_grad = False\n",
        "\n",
        "  # Parameters of newly constructed modules have requires_grad=True by default\n",
        "  num_ftrs = model_conv.fc.in_features\n",
        "  model_conv.fc = nn.Linear(num_ftrs, 2)\n",
        "\n",
        "  model_conv = model_conv.to(device)\n",
        "\n",
        "  criterion = nn.CrossEntropyLoss()\n",
        "\n",
        "  # Observe that only parameters of final layer are being optimized as\n",
        "  # opposed to before.\n",
        "  optimizer_conv = optim.SGD(model_conv.fc.parameters(), lr=0.001, momentum=0.9)\n",
        "\n",
        "  # Decay LR by a factor of 0.1 every 7 epochs\n",
        "  exp_lr_scheduler = lr_scheduler.StepLR(optimizer_conv, step_size=7, gamma=0.1)\n",
        "  return train_model(model_conv, criterion, optimizer_conv, exp_lr_scheduler,\n",
        "                     num_epochs=25)"
      ],
      "metadata": {
        "id": "hZ0KnQoBhdIu"
      },
      "execution_count": null,
      "outputs": []
    },
    {
      "cell_type": "code",
      "source": [
        "model_1 = models.resnet18(pretrained=True)\n",
        "model_1 = get_trained_model(model_1)"
      ],
      "metadata": {
        "colab": {
          "base_uri": "https://localhost:8080/",
          "height": 1000,
          "referenced_widgets": [
            "5f6549b1cace491689a3b0804e2e4435",
            "3ba11ca135e346c18ed9997286d5b4ad",
            "a55b0df1231a4300a088e4806d2f0435",
            "4239d5fca148444c9fde804f1a45e7f2",
            "e3f594178944410fbab2ffefdd0f0f1f",
            "bf0f9d33f9e34c048bb4e18e38a15719",
            "196fd246ee214f6aa1d8903d60b67be2",
            "0910bf34fd1f429193411e028c7a53ee",
            "30303382a4194e0aa6a90875688bd9a2",
            "92be7fb9b2a74593aa7b15a0f250050f",
            "608fd07bd2674c2cbc255249b3f6a927"
          ]
        },
        "id": "TVveMImcn1lw",
        "outputId": "2b865f5a-3c7a-45ec-9b26-86375b30a48b"
      },
      "execution_count": null,
      "outputs": [
        {
          "output_type": "stream",
          "name": "stderr",
          "text": [
            "Downloading: \"https://download.pytorch.org/models/resnet18-f37072fd.pth\" to /root/.cache/torch/hub/checkpoints/resnet18-f37072fd.pth\n"
          ]
        },
        {
          "output_type": "display_data",
          "data": {
            "text/plain": [
              "  0%|          | 0.00/44.7M [00:00<?, ?B/s]"
            ],
            "application/vnd.jupyter.widget-view+json": {
              "version_major": 2,
              "version_minor": 0,
              "model_id": "5f6549b1cace491689a3b0804e2e4435"
            }
          },
          "metadata": {}
        },
        {
          "output_type": "stream",
          "name": "stdout",
          "text": [
            "Epoch 0/24\n",
            "----------\n"
          ]
        },
        {
          "output_type": "stream",
          "name": "stderr",
          "text": [
            "/usr/local/lib/python3.7/dist-packages/torch/utils/data/dataloader.py:481: UserWarning: This DataLoader will create 4 worker processes in total. Our suggested max number of worker in current system is 2, which is smaller than what this DataLoader is going to create. Please be aware that excessive worker creation might get DataLoader running slow or even freeze, lower the worker number to avoid potential slowness/freeze if necessary.\n",
            "  cpuset_checked))\n"
          ]
        },
        {
          "output_type": "stream",
          "name": "stdout",
          "text": [
            "train Loss: 0.3389 Acc: 0.8613\n",
            "valid Loss: 0.0196 Acc: 0.9967\n",
            "\n",
            "Epoch 1/24\n",
            "----------\n",
            "train Loss: 0.3349 Acc: 0.8742\n",
            "valid Loss: 0.0156 Acc: 0.9950\n",
            "\n",
            "Epoch 2/24\n",
            "----------\n",
            "train Loss: 0.3850 Acc: 0.8631\n",
            "valid Loss: 0.0218 Acc: 0.9934\n",
            "\n",
            "Epoch 3/24\n",
            "----------\n",
            "train Loss: 0.3721 Acc: 0.8696\n",
            "valid Loss: 0.0118 Acc: 0.9967\n",
            "\n",
            "Epoch 4/24\n",
            "----------\n",
            "train Loss: 0.3096 Acc: 0.8880\n",
            "valid Loss: 0.0300 Acc: 0.9851\n",
            "\n",
            "Epoch 5/24\n",
            "----------\n",
            "train Loss: 0.3157 Acc: 0.8868\n",
            "valid Loss: 0.1295 Acc: 0.9586\n",
            "\n",
            "Epoch 6/24\n",
            "----------\n",
            "train Loss: 0.3045 Acc: 0.8970\n",
            "valid Loss: 0.0431 Acc: 0.9851\n",
            "\n",
            "Epoch 7/24\n",
            "----------\n",
            "train Loss: 0.2648 Acc: 0.9000\n",
            "valid Loss: 0.0143 Acc: 0.9967\n",
            "\n",
            "Epoch 8/24\n",
            "----------\n",
            "train Loss: 0.2114 Acc: 0.9154\n",
            "valid Loss: 0.0127 Acc: 0.9983\n",
            "\n",
            "Epoch 9/24\n",
            "----------\n",
            "train Loss: 0.2345 Acc: 0.8994\n",
            "valid Loss: 0.0270 Acc: 0.9901\n",
            "\n",
            "Epoch 10/24\n",
            "----------\n",
            "train Loss: 0.2371 Acc: 0.9031\n",
            "valid Loss: 0.0155 Acc: 0.9950\n",
            "\n",
            "Epoch 11/24\n",
            "----------\n",
            "train Loss: 0.2463 Acc: 0.9031\n",
            "valid Loss: 0.0143 Acc: 0.9967\n",
            "\n",
            "Epoch 12/24\n",
            "----------\n",
            "train Loss: 0.2090 Acc: 0.9157\n",
            "valid Loss: 0.0215 Acc: 0.9917\n",
            "\n",
            "Epoch 13/24\n",
            "----------\n",
            "train Loss: 0.2266 Acc: 0.9074\n",
            "valid Loss: 0.0241 Acc: 0.9917\n",
            "\n",
            "Epoch 14/24\n",
            "----------\n",
            "train Loss: 0.2181 Acc: 0.9056\n",
            "valid Loss: 0.0119 Acc: 0.9983\n",
            "\n",
            "Epoch 15/24\n",
            "----------\n",
            "train Loss: 0.2165 Acc: 0.9053\n",
            "valid Loss: 0.0119 Acc: 0.9983\n",
            "\n",
            "Epoch 16/24\n",
            "----------\n",
            "train Loss: 0.2418 Acc: 0.9031\n",
            "valid Loss: 0.0191 Acc: 0.9950\n",
            "\n",
            "Epoch 17/24\n",
            "----------\n",
            "train Loss: 0.2149 Acc: 0.9056\n",
            "valid Loss: 0.0148 Acc: 0.9967\n",
            "\n",
            "Epoch 18/24\n",
            "----------\n",
            "train Loss: 0.2350 Acc: 0.9000\n",
            "valid Loss: 0.0163 Acc: 0.9917\n",
            "\n",
            "Epoch 19/24\n",
            "----------\n",
            "train Loss: 0.2081 Acc: 0.9182\n",
            "valid Loss: 0.0215 Acc: 0.9917\n",
            "\n",
            "Epoch 20/24\n",
            "----------\n",
            "train Loss: 0.2043 Acc: 0.9148\n",
            "valid Loss: 0.0133 Acc: 0.9983\n",
            "\n",
            "Epoch 21/24\n",
            "----------\n",
            "train Loss: 0.1871 Acc: 0.9216\n",
            "valid Loss: 0.0180 Acc: 0.9950\n",
            "\n",
            "Epoch 22/24\n",
            "----------\n",
            "train Loss: 0.2224 Acc: 0.9043\n",
            "valid Loss: 0.0339 Acc: 0.9884\n",
            "\n",
            "Epoch 23/24\n",
            "----------\n",
            "train Loss: 0.1939 Acc: 0.9209\n",
            "valid Loss: 0.0136 Acc: 0.9983\n",
            "\n",
            "Epoch 24/24\n",
            "----------\n",
            "train Loss: 0.2076 Acc: 0.9160\n",
            "valid Loss: 0.0217 Acc: 0.9917\n",
            "\n",
            "Training complete in 10m 32s\n",
            "Best val Acc: 0.998344\n"
          ]
        }
      ]
    },
    {
      "cell_type": "code",
      "source": [
        "visualize_model(model_1)"
      ],
      "metadata": {
        "colab": {
          "base_uri": "https://localhost:8080/",
          "height": 637
        },
        "id": "UdaBPNDptFwS",
        "outputId": "9dc68602-59d9-42e2-e370-befa659d25cf"
      },
      "execution_count": null,
      "outputs": [
        {
          "output_type": "stream",
          "name": "stderr",
          "text": [
            "/usr/local/lib/python3.7/dist-packages/torch/utils/data/dataloader.py:481: UserWarning: This DataLoader will create 4 worker processes in total. Our suggested max number of worker in current system is 2, which is smaller than what this DataLoader is going to create. Please be aware that excessive worker creation might get DataLoader running slow or even freeze, lower the worker number to avoid potential slowness/freeze if necessary.\n",
            "  cpuset_checked))\n"
          ]
        },
        {
          "output_type": "display_data",
          "data": {
            "text/plain": [
              "<Figure size 432x288 with 1 Axes>"
            ],
            "image/png": "[encoded data removed]"
          },
          "metadata": {
            "needs_background": "light"
          }
        },
        {
          "output_type": "display_data",
          "data": {
            "text/plain": [
              "<Figure size 432x288 with 1 Axes>"
            ],
            "image/png": "[encoded data removed]"
          },
          "metadata": {
            "needs_background": "light"
          }
        },
        {
          "output_type": "display_data",
          "data": {
            "text/plain": [
              "<Figure size 432x288 with 1 Axes>"
            ],
            "image/png": "[encoded data removed]"
          },
          "metadata": {
            "needs_background": "light"
          }
        },
        {
          "output_type": "display_data",
          "data": {
            "text/plain": [
              "<Figure size 432x288 with 1 Axes>"
            ],
            "image/png": "[encoded data removed]"
          },
          "metadata": {
            "needs_background": "light"
          }
        },
        {
          "output_type": "display_data",
          "data": {
            "text/plain": [
              "<Figure size 432x288 with 1 Axes>"
            ],
            "image/png": "[encoded data removed]"
          },
          "metadata": {
            "needs_background": "light"
          }
        },
        {
          "output_type": "display_data",
          "data": {
            "text/plain": [
              "<Figure size 432x288 with 1 Axes>"
            ],
            "image/png": "[encoded data removed]"
          },
          "metadata": {
            "needs_background": "light"
          }
        }
      ]
    },
    {
      "cell_type": "code",
      "source": [
        "for root, _, files in os.walk('glasses_noGlasses'):\n",
        "  for file in files:\n",
        "    if ',' in file:\n",
        "      new_name = file.replace(',', '_')\n",
        "      os.rename(os.path.join(root, file), os.path.join(root, new_name))\n",
        "      print(f'Renamed {file} to {new_name}')"
      ],
      "metadata": {
        "colab": {
          "base_uri": "https://localhost:8080/"
        },
        "id": "AaxIqkFoxD6j",
        "outputId": "974ced78-81e8-4d8b-fdbd-c1884284b314"
      },
      "execution_count": null,
      "outputs": [
        {
          "output_type": "stream",
          "name": "stdout",
          "text": [
            "Renamed 23.e25609ab-abd8-45c6-af5c-977088ab3ed4._CR0,0,970,600_PT0_SX970__.jpg to 23.e25609ab-abd8-45c6-af5c-977088ab3ed4._CR0_0_970_600_PT0_SX970__.jpg\n",
            "Renamed 232.e25609ab-abd8-45c6-af5c-977088ab3ed4._CR0,0,970,600_PT0_SX970__.jpg to 232.e25609ab-abd8-45c6-af5c-977088ab3ed4._CR0_0_970_600_PT0_SX970__.jpg\n",
            "Renamed 257.e25609ab-abd8-45c6-af5c-977088ab3ed4._CR0,0,970,600_PT0_SX970__.jpg to 257.e25609ab-abd8-45c6-af5c-977088ab3ed4._CR0_0_970_600_PT0_SX970__.jpg\n",
            "Renamed 49.e25609ab-abd8-45c6-af5c-977088ab3ed4._CR0,0,970,600_PT0_SX970__.jpg to 49.e25609ab-abd8-45c6-af5c-977088ab3ed4._CR0_0_970_600_PT0_SX970__.jpg\n",
            "Renamed 206.e25609ab-abd8-45c6-af5c-977088ab3ed4._CR0,0,970,600_PT0_SX970__.jpg to 206.e25609ab-abd8-45c6-af5c-977088ab3ed4._CR0_0_970_600_PT0_SX970__.jpg\n"
          ]
        }
      ]
    },
    {
      "cell_type": "code",
      "source": [
        "labels = []\n",
        "def create_csv(name):\n",
        "  with open(f'{name}.csv', 'w') as f:\n",
        "    for root, _, files in os.walk(os.path.join('glasses_noGlasses', name)):\n",
        "      for file in files:\n",
        "        label = os.path.basename(root)\n",
        "        path = os.path.join(label, file)\n",
        "        if os.path.splitext(file)[1] == '.jpg':\n",
        "          if label not in labels:\n",
        "            labels.append(label)\n",
        "          f.write(f'{path}, {labels.index(label)}\\n')"
      ],
      "metadata": {
        "id": "AigIQ_l30XFH"
      },
      "execution_count": null,
      "outputs": []
    },
    {
      "cell_type": "code",
      "source": [
        "for x in ['train', 'valid']:\n",
        "  create_csv(x)"
      ],
      "metadata": {
        "id": "VivrT08kt9TJ"
      },
      "execution_count": null,
      "outputs": []
    },
    {
      "cell_type": "code",
      "source": [
        "from PIL import Image\n",
        "from torch.utils.data import Dataset\n",
        "import pandas as pd"
      ],
      "metadata": {
        "id": "7erKy0qbwUPo"
      },
      "execution_count": null,
      "outputs": []
    },
    {
      "cell_type": "code",
      "source": [
        "def pil_loader(path):\n",
        "  with open(path, \"rb\") as f:\n",
        "      img = Image.open(f)\n",
        "      return img.convert(\"RGB\")\n",
        "\n",
        "class MyDataset(Dataset):\n",
        "  def __init__(self, root, csv_file, transform):\n",
        "    self.dataset_descr = pd.read_csv(csv_file)\n",
        "    self.root = root\n",
        "    self.transform = transform\n",
        "  \n",
        "  def __len__(self):\n",
        "    return len(self.dataset_descr)\n",
        "\n",
        "  def __getitem__(self, idx):\n",
        "    info = self.dataset_descr.iloc[idx]\n",
        "\n",
        "    img_name = os.path.join(self.root, info[0])\n",
        "    image = pil_loader(img_name)\n",
        "    label = torch.tensor(int(info[1]))\n",
        "    image = self.transform(image)\n",
        "\n",
        "    return image, label"
      ],
      "metadata": {
        "id": "n9_pC1kswAse"
      },
      "execution_count": null,
      "outputs": []
    },
    {
      "cell_type": "code",
      "source": [
        "data_dir = 'glasses_noGlasses'\n",
        "image_datasets = {x: MyDataset(os.path.join(data_dir, x), f'{x}.csv',\n",
        "                               data_transforms[x])\n",
        "                  for x in ['train', 'valid']}\n",
        "dataloaders = {x: torch.utils.data.DataLoader(image_datasets[x], batch_size=4,\n",
        "                                              shuffle=True, num_workers=2)\n",
        "              for x in ['train', 'valid']}\n",
        "class_names = labels"
      ],
      "metadata": {
        "id": "wgreKwJH1Tys"
      },
      "execution_count": null,
      "outputs": []
    },
    {
      "cell_type": "code",
      "source": [
        "model_2 = models.resnet18(pretrained=True)\n",
        "model_2 = get_trained_model(model_2)"
      ],
      "metadata": {
        "colab": {
          "base_uri": "https://localhost:8080/",
          "height": 1000,
          "referenced_widgets": [
            "8f51ed6e0abd4ad9a6ec8fb4bf7bf5d3",
            "89485cdcc9114801aba1133c55e6529c",
            "7f7e02d1b0014d0290a55fa00f7b1eab",
            "0e300651a8fd4199a7afc7de81359210",
            "9c26fc9ecf8e454baa948e4dc969695f",
            "c604a6567add484484b56065eff22c6b",
            "5dd978486e37464e85b52491cff54bb5",
            "400819eb78ba4172bff2ee0ab4653ad2",
            "10dd53fd978d4ce9a082899b297f5a0c",
            "a843b55283254e539844168500e1dac4",
            "7f6d9d2977324bb898937e149ce7f974"
          ]
        },
        "id": "rqW6mcs61sFf",
        "outputId": "bdcdd9db-228d-40f0-bf0d-08048485c95d"
      },
      "execution_count": null,
      "outputs": [
        {
          "output_type": "stream",
          "name": "stderr",
          "text": [
            "Downloading: \"https://download.pytorch.org/models/resnet18-f37072fd.pth\" to /root/.cache/torch/hub/checkpoints/resnet18-f37072fd.pth\n"
          ]
        },
        {
          "output_type": "display_data",
          "data": {
            "text/plain": [
              "  0%|          | 0.00/44.7M [00:00<?, ?B/s]"
            ],
            "application/vnd.jupyter.widget-view+json": {
              "version_major": 2,
              "version_minor": 0,
              "model_id": "8f51ed6e0abd4ad9a6ec8fb4bf7bf5d3"
            }
          },
          "metadata": {}
        },
        {
          "output_type": "stream",
          "name": "stdout",
          "text": [
            "Epoch 0/24\n",
            "----------\n",
            "train Loss: 0.3074 Acc: 0.8096\n",
            "valid Loss: 0.0961 Acc: 0.9238\n",
            "\n",
            "Epoch 1/24\n",
            "----------\n",
            "train Loss: 0.3019 Acc: 0.8317\n",
            "valid Loss: 0.0141 Acc: 0.9503\n",
            "\n",
            "Epoch 2/24\n",
            "----------\n",
            "train Loss: 0.2471 Acc: 0.8434\n",
            "valid Loss: 0.0263 Acc: 0.9437\n",
            "\n",
            "Epoch 3/24\n",
            "----------\n",
            "train Loss: 0.3252 Acc: 0.8197\n",
            "valid Loss: 0.0185 Acc: 0.9487\n",
            "\n",
            "Epoch 4/24\n",
            "----------\n",
            "train Loss: 0.2870 Acc: 0.8345\n",
            "valid Loss: 0.0229 Acc: 0.9437\n",
            "\n",
            "Epoch 5/24\n",
            "----------\n",
            "train Loss: 0.2428 Acc: 0.8444\n",
            "valid Loss: 0.0165 Acc: 0.9454\n",
            "\n",
            "Epoch 6/24\n",
            "----------\n",
            "train Loss: 0.2512 Acc: 0.8425\n",
            "valid Loss: 0.0601 Acc: 0.9387\n",
            "\n",
            "Epoch 7/24\n",
            "----------\n",
            "train Loss: 0.2190 Acc: 0.8570\n",
            "valid Loss: 0.0286 Acc: 0.9421\n",
            "\n",
            "Epoch 8/24\n",
            "----------\n",
            "train Loss: 0.1993 Acc: 0.8557\n",
            "valid Loss: 0.0132 Acc: 0.9503\n",
            "\n",
            "Epoch 9/24\n",
            "----------\n",
            "train Loss: 0.2113 Acc: 0.8557\n",
            "valid Loss: 0.0170 Acc: 0.9454\n",
            "\n",
            "Epoch 10/24\n",
            "----------\n",
            "train Loss: 0.2238 Acc: 0.8508\n",
            "valid Loss: 0.0214 Acc: 0.9421\n",
            "\n",
            "Epoch 11/24\n",
            "----------\n",
            "train Loss: 0.1877 Acc: 0.8616\n",
            "valid Loss: 0.0166 Acc: 0.9487\n",
            "\n",
            "Epoch 12/24\n",
            "----------\n",
            "train Loss: 0.1803 Acc: 0.8625\n",
            "valid Loss: 0.0110 Acc: 0.9503\n",
            "\n",
            "Epoch 13/24\n",
            "----------\n",
            "train Loss: 0.2059 Acc: 0.8514\n",
            "valid Loss: 0.0149 Acc: 0.9487\n",
            "\n",
            "Epoch 14/24\n",
            "----------\n",
            "train Loss: 0.1942 Acc: 0.8631\n",
            "valid Loss: 0.0200 Acc: 0.9437\n",
            "\n",
            "Epoch 15/24\n",
            "----------\n",
            "train Loss: 0.2019 Acc: 0.8585\n",
            "valid Loss: 0.0135 Acc: 0.9503\n",
            "\n",
            "Epoch 16/24\n",
            "----------\n",
            "train Loss: 0.1794 Acc: 0.8650\n",
            "valid Loss: 0.0466 Acc: 0.9387\n",
            "\n",
            "Epoch 17/24\n",
            "----------\n",
            "train Loss: 0.2065 Acc: 0.8560\n",
            "valid Loss: 0.0186 Acc: 0.9454\n",
            "\n",
            "Epoch 18/24\n",
            "----------\n",
            "train Loss: 0.1838 Acc: 0.8588\n",
            "valid Loss: 0.0164 Acc: 0.9487\n",
            "\n",
            "Epoch 19/24\n",
            "----------\n",
            "train Loss: 0.1785 Acc: 0.8613\n",
            "valid Loss: 0.0195 Acc: 0.9487\n",
            "\n",
            "Epoch 20/24\n",
            "----------\n",
            "train Loss: 0.1904 Acc: 0.8573\n",
            "valid Loss: 0.0296 Acc: 0.9404\n",
            "\n",
            "Epoch 21/24\n",
            "----------\n",
            "train Loss: 0.1895 Acc: 0.8588\n",
            "valid Loss: 0.0168 Acc: 0.9503\n",
            "\n",
            "Epoch 22/24\n",
            "----------\n",
            "train Loss: 0.1901 Acc: 0.8640\n",
            "valid Loss: 0.0135 Acc: 0.9503\n",
            "\n",
            "Epoch 23/24\n",
            "----------\n",
            "train Loss: 0.2005 Acc: 0.8579\n",
            "valid Loss: 0.0119 Acc: 0.9503\n",
            "\n",
            "Epoch 24/24\n",
            "----------\n",
            "train Loss: 0.2176 Acc: 0.8471\n",
            "valid Loss: 0.0158 Acc: 0.9503\n",
            "\n",
            "Training complete in 9m 55s\n",
            "Best val Acc: 0.950331\n"
          ]
        }
      ]
    },
    {
      "cell_type": "code",
      "source": [
        "visualize_model(model_2)"
      ],
      "metadata": {
        "colab": {
          "base_uri": "https://localhost:8080/",
          "height": 581
        },
        "id": "424BA3l1LBou",
        "outputId": "1244c3ed-edca-419e-d3bd-c847c33892f4"
      },
      "execution_count": null,
      "outputs": [
        {
          "output_type": "display_data",
          "data": {
            "text/plain": [
              "<Figure size 432x288 with 1 Axes>"
            ],
            "image/png": "[encoded data removed]"
          },
          "metadata": {
            "needs_background": "light"
          }
        },
        {
          "output_type": "display_data",
          "data": {
            "text/plain": [
              "<Figure size 432x288 with 1 Axes>"
            ],
            "image/png": "[encoded data removed]"
          },
          "metadata": {
            "needs_background": "light"
          }
        },
        {
          "output_type": "display_data",
          "data": {
            "text/plain": [
              "<Figure size 432x288 with 1 Axes>"
            ],
            "image/png": "[encoded data removed]"
          },
          "metadata": {
            "needs_background": "light"
          }
        },
        {
          "output_type": "display_data",
          "data": {
            "text/plain": [
              "<Figure size 432x288 with 1 Axes>"
            ],
            "image/png": "[encoded data removed]"
          },
          "metadata": {
            "needs_background": "light"
          }
        },
        {
          "output_type": "display_data",
          "data": {
            "text/plain": [
              "<Figure size 432x288 with 1 Axes>"
            ],
            "image/png": "[encoded data removed]"
          },
          "metadata": {
            "needs_background": "light"
          }
        },
        {
          "output_type": "display_data",
          "data": {
            "text/plain": [
              "<Figure size 432x288 with 1 Axes>"
            ],
            "image/png": "[encoded data removed]"
          },
          "metadata": {
            "needs_background": "light"
          }
        }
      ]
    },
    {
      "cell_type": "code",
      "source": [
        "print(image_datasets['train'][0][0].size())"
      ],
      "metadata": {
        "colab": {
          "base_uri": "https://localhost:8080/"
        },
        "id": "g9-kOQiAPZ9z",
        "outputId": "0d20e728-19fa-48a9-e66a-812364cb128c"
      },
      "execution_count": null,
      "outputs": [
        {
          "output_type": "stream",
          "name": "stdout",
          "text": [
            "torch.Size([3, 224, 224])\n"
          ]
        }
      ]
    },
    {
      "cell_type": "code",
      "source": [
        "import torch.nn as nn\n",
        "from torch.nn.functional import relu\n",
        "\n",
        "\n",
        "class MyConvNet(nn.Module):\n",
        "  def __init__(self):\n",
        "    super().__init__()\n",
        "    self.conv1 = nn.Conv2d(3, 6, 5) # 220x220\n",
        "    self.pool = nn.MaxPool2d(2, 2) # 110x110\n",
        "    self.conv2 = nn.Conv2d(6, 16, 5) # 106x106 -> pool -> 53x53\n",
        "    self.fc1 = nn.Linear(16 * 53 * 53, 120) \n",
        "    self.fc2 = nn.Linear(120, 84)\n",
        "    self.fc3 = nn.Linear(84, 3)\n",
        "\n",
        "  def forward(self, x):\n",
        "    x = self.pool(relu(self.conv1(x)))\n",
        "    x = self.pool(relu(self.conv2(x)))\n",
        "    x = torch.flatten(x, 1)\n",
        "    x = relu(self.fc1(x))\n",
        "    x = relu(self.fc2(x))\n",
        "    x = self.fc3(x)\n",
        "    return x"
      ],
      "metadata": {
        "id": "TX7o_8AdLvUr"
      },
      "execution_count": null,
      "outputs": []
    },
    {
      "cell_type": "code",
      "source": [
        "model_3 = MyConvNet()\n",
        "model_3 = model_3.to(device)\n",
        "criterion = nn.CrossEntropyLoss()\n",
        "optimizer = optim.SGD(model_3.parameters(), lr=0.001, momentum=0.9)\n",
        "exp_lr_scheduler = lr_scheduler.StepLR(optimizer, step_size=7, gamma=0.1)\n",
        "train_model(model_3, criterion, optimizer, exp_lr_scheduler, num_epochs=25)"
      ],
      "metadata": {
        "colab": {
          "base_uri": "https://localhost:8080/"
        },
        "id": "Z_Igk9edNy8L",
        "outputId": "c1417379-7d71-461c-ef43-ef7bd7ec6d41"
      },
      "execution_count": null,
      "outputs": [
        {
          "output_type": "stream",
          "name": "stdout",
          "text": [
            "Epoch 0/24\n",
            "----------\n",
            "train Loss: 0.3971 Acc: 0.7795\n",
            "valid Loss: 0.3333 Acc: 0.8411\n",
            "\n",
            "Epoch 1/24\n",
            "----------\n",
            "train Loss: 0.2298 Acc: 0.8514\n",
            "valid Loss: 0.1524 Acc: 0.8874\n",
            "\n",
            "Epoch 2/24\n",
            "----------\n",
            "train Loss: 0.1874 Acc: 0.8674\n",
            "valid Loss: 0.1177 Acc: 0.9172\n",
            "\n",
            "Epoch 3/24\n",
            "----------\n",
            "train Loss: 0.1798 Acc: 0.8733\n",
            "valid Loss: 0.1876 Acc: 0.8907\n",
            "\n",
            "Epoch 4/24\n",
            "----------\n",
            "train Loss: 0.1750 Acc: 0.8745\n",
            "valid Loss: 0.0742 Acc: 0.9321\n",
            "\n",
            "Epoch 5/24\n",
            "----------\n",
            "train Loss: 0.1505 Acc: 0.8813\n",
            "valid Loss: 0.1689 Acc: 0.8990\n",
            "\n",
            "Epoch 6/24\n",
            "----------\n",
            "train Loss: 0.1395 Acc: 0.8883\n",
            "valid Loss: 0.0780 Acc: 0.9205\n",
            "\n",
            "Epoch 7/24\n",
            "----------\n",
            "train Loss: 0.1060 Acc: 0.9034\n",
            "valid Loss: 0.0610 Acc: 0.9354\n",
            "\n",
            "Epoch 8/24\n",
            "----------\n",
            "train Loss: 0.0922 Acc: 0.9043\n",
            "valid Loss: 0.0683 Acc: 0.9338\n",
            "\n",
            "Epoch 9/24\n",
            "----------\n",
            "train Loss: 0.0924 Acc: 0.9022\n",
            "valid Loss: 0.0531 Acc: 0.9371\n",
            "\n",
            "Epoch 10/24\n",
            "----------\n",
            "train Loss: 0.0923 Acc: 0.9071\n",
            "valid Loss: 0.0626 Acc: 0.9338\n",
            "\n",
            "Epoch 11/24\n",
            "----------\n",
            "train Loss: 0.0850 Acc: 0.9071\n",
            "valid Loss: 0.0508 Acc: 0.9404\n",
            "\n",
            "Epoch 12/24\n",
            "----------\n",
            "train Loss: 0.0704 Acc: 0.9123\n",
            "valid Loss: 0.0705 Acc: 0.9338\n",
            "\n",
            "Epoch 13/24\n",
            "----------\n",
            "train Loss: 0.0855 Acc: 0.9062\n",
            "valid Loss: 0.0501 Acc: 0.9387\n",
            "\n",
            "Epoch 14/24\n",
            "----------\n",
            "train Loss: 0.0849 Acc: 0.9074\n",
            "valid Loss: 0.0552 Acc: 0.9404\n",
            "\n",
            "Epoch 15/24\n",
            "----------\n",
            "train Loss: 0.0915 Acc: 0.9013\n",
            "valid Loss: 0.0567 Acc: 0.9404\n",
            "\n",
            "Epoch 16/24\n",
            "----------\n",
            "train Loss: 0.0753 Acc: 0.9108\n",
            "valid Loss: 0.0561 Acc: 0.9404\n",
            "\n",
            "Epoch 17/24\n",
            "----------\n",
            "train Loss: 0.0938 Acc: 0.9031\n",
            "valid Loss: 0.0550 Acc: 0.9404\n",
            "\n",
            "Epoch 18/24\n",
            "----------\n",
            "train Loss: 0.0757 Acc: 0.9114\n",
            "valid Loss: 0.0563 Acc: 0.9404\n",
            "\n",
            "Epoch 19/24\n",
            "----------\n",
            "train Loss: 0.0897 Acc: 0.9043\n",
            "valid Loss: 0.0571 Acc: 0.9404\n",
            "\n",
            "Epoch 20/24\n",
            "----------\n",
            "train Loss: 0.0802 Acc: 0.9083\n",
            "valid Loss: 0.0595 Acc: 0.9404\n",
            "\n",
            "Epoch 21/24\n",
            "----------\n",
            "train Loss: 0.0802 Acc: 0.9080\n",
            "valid Loss: 0.0581 Acc: 0.9404\n",
            "\n",
            "Epoch 22/24\n",
            "----------\n",
            "train Loss: 0.0834 Acc: 0.9090\n",
            "valid Loss: 0.0582 Acc: 0.9404\n",
            "\n",
            "Epoch 23/24\n",
            "----------\n",
            "train Loss: 0.0787 Acc: 0.9096\n",
            "valid Loss: 0.0580 Acc: 0.9404\n",
            "\n",
            "Epoch 24/24\n",
            "----------\n",
            "train Loss: 0.0784 Acc: 0.9111\n",
            "valid Loss: 0.0576 Acc: 0.9404\n",
            "\n",
            "Training complete in 7m 12s\n",
            "Best val Acc: 0.940397\n"
          ]
        },
        {
          "output_type": "execute_result",
          "data": {
            "text/plain": [
              "MyConvNet(\n",
              "  (conv1): Conv2d(3, 6, kernel_size=(5, 5), stride=(1, 1))\n",
              "  (pool): MaxPool2d(kernel_size=2, stride=2, padding=0, dilation=1, ceil_mode=False)\n",
              "  (conv2): Conv2d(6, 16, kernel_size=(5, 5), stride=(1, 1))\n",
              "  (fc1): Linear(in_features=44944, out_features=120, bias=True)\n",
              "  (fc2): Linear(in_features=120, out_features=84, bias=True)\n",
              "  (fc3): Linear(in_features=84, out_features=3, bias=True)\n",
              ")"
            ]
          },
          "metadata": {},
          "execution_count": 43
        }
      ]
    },
    {
      "cell_type": "code",
      "source": [
        "visualize_model(model_3)"
      ],
      "metadata": {
        "colab": {
          "base_uri": "https://localhost:8080/",
          "height": 581
        },
        "id": "dmMlfV7pN3De",
        "outputId": "4f9cd26a-ae44-4b07-d802-fc587ae7a330"
      },
      "execution_count": null,
      "outputs": [
        {
          "output_type": "display_data",
          "data": {
            "text/plain": [
              "<Figure size 432x288 with 1 Axes>"
            ],
            "image/png": "[encoded data removed]"
          },
          "metadata": {
            "needs_background": "light"
          }
        },
        {
          "output_type": "display_data",
          "data": {
            "text/plain": [
              "<Figure size 432x288 with 1 Axes>"
            ],
            "image/png": "[encoded data removed]"
          },
          "metadata": {
            "needs_background": "light"
          }
        },
        {
          "output_type": "display_data",
          "data": {
            "text/plain": [
              "<Figure size 432x288 with 1 Axes>"
            ],
            "image/png": "[encoded data removed]"
          },
          "metadata": {
            "needs_background": "light"
          }
        },
        {
          "output_type": "display_data",
          "data": {
            "text/plain": [
              "<Figure size 432x288 with 1 Axes>"
            ],
            "image/png": "[encoded data removed]"
          },
          "metadata": {
            "needs_background": "light"
          }
        },
        {
          "output_type": "display_data",
          "data": {
            "text/plain": [
              "<Figure size 432x288 with 1 Axes>"
            ],
            "image/png": "[encoded data removed]"
          },
          "metadata": {
            "needs_background": "light"
          }
        },
        {
          "output_type": "display_data",
          "data": {
            "text/plain": [
              "<Figure size 432x288 with 1 Axes>"
            ],
            "image/png": "[encoded data removed]"
          },
          "metadata": {
            "needs_background": "light"
          }
        }
      ]
    }
  ]
}